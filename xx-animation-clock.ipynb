{
 "cells": [
  {
   "cell_type": "markdown",
   "metadata": {},
   "source": [
    "# Animation\n",
    "The purpose of this Jupyter Notebook is to present a challenging step-by-step example of how to create an animation.\n",
    "If you don't have any experience with animations, it's better to start with a simpler example."
   ]
  },
  {
   "cell_type": "markdown",
   "metadata": {},
   "source": [
    "## 1 What should I know before I start?\n",
    "- How to implement functions in Python.\n",
    "- How to deal with arrays and mathematical functions in `numpy`.\n",
    "- How to generate grafics with `pyplot` from `matplotlib`."
   ]
  },
  {
   "cell_type": "markdown",
   "metadata": {},
   "source": [
    "## 2 Packages\n",
    "The following packages are used to display images:"
   ]
  },
  {
   "cell_type": "code",
   "execution_count": null,
   "metadata": {},
   "outputs": [],
   "source": [
    "from IPython.display import Image, HTML"
   ]
  },
  {
   "cell_type": "markdown",
   "metadata": {},
   "source": [
    "## 3 What is an animation?\n",
    "An animation consits of a sequence of images.\n",
    "Each single image is called a frame.\n",
    "Consecutive images are shown with a certain frequency.\n",
    "This frequency is called frame rate and is specified in hertz."
   ]
  },
  {
   "cell_type": "markdown",
   "metadata": {},
   "source": [
    "<b>ToDo:</b> Insert a picture for better explanation!"
   ]
  },
  {
   "cell_type": "markdown",
   "metadata": {},
   "source": [
    "## 4 A challenging example: The analog clock\n",
    "\n",
    "<div class=\"alert alert-block alert-warning\">\n",
    "    \n",
    "<b>Example</b>\n",
    "\n",
    "We want to simulate an analog clock as shown in the figure below.\n",
    "\n",
    "</div>"
   ]
  },
  {
   "cell_type": "code",
   "execution_count": null,
   "metadata": {},
   "outputs": [],
   "source": [
    "Image('images/25-animation-clock.gif', width=576, height=576)"
   ]
  },
  {
   "cell_type": "markdown",
   "metadata": {},
   "source": [
    "## 5 Build the animation\n",
    "The animation is bulit step-by-step.\n",
    "### 5.1 Create a figure\n",
    "First, a figure is generated.\n",
    "Every frame of the animation will be generated inside the same figure.\n",
    "The variable `fig` will be used as a global variable.\n",
    "At the moment the figure should not be displayed.\n",
    "Calling the function [`matplotlib.pyplot.close()`](https://matplotlib.org/stable/api/_as_gen/matplotlib.pyplot.close.html) will hide the figure."
   ]
  },
  {
   "cell_type": "code",
   "execution_count": null,
   "metadata": {},
   "outputs": [],
   "source": [
    "import matplotlib.pyplot as plt\n",
    "\n",
    "fig = plt.figure(figsize=(4, 4),dpi=144)\n",
    "plt.close(fig)"
   ]
  },
  {
   "cell_type": "markdown",
   "metadata": {},
   "source": [
    "### 5.2 Animation concept\n",
    "Most of the graphics are the same in every frame.\n",
    "Therefore, we do not clear the graphic for each frame.\n",
    "Instead, most of the graphics are retained.\n",
    "Only the data of the clock hands in each frame are changed.\n",
    "For this purpose, the animation is divided into two functions:\n",
    "- The function for graphics initialization `init()` is only called once.\n",
    "- The function for graphics update `frame()` is called for each single frame."
   ]
  },
  {
   "cell_type": "markdown",
   "metadata": {},
   "source": [
    "### 5.3 The `init()` function\n",
    "During initialization the plots for the clock hands for hour, minute and second are just prepared.\n",
    "The data of these plots are initialized with empty arrays.\n",
    "Later on these data will be set accordingly to the actual time of the frame. "
   ]
  },
  {
   "cell_type": "code",
   "execution_count": null,
   "metadata": {},
   "outputs": [],
   "source": [
    "import numpy as np\n",
    "\n",
    "def init():\n",
    "    \n",
    "    # get axis of figure\n",
    "    ax = fig.gca()\n",
    "    \n",
    "    # set axis properties\n",
    "    ax.axis('equal')\n",
    "    ax.axis('off')\n",
    "\n",
    "    # background\n",
    "    t = np.linspace(0.0,2.0*np.pi)\n",
    "    x, y = np.cos(t), np.sin(t)\n",
    "    ax.fill(1.2*x,1.2*y,'black',1.1*x,1.1*y,'lightgray',1.0*x,1.0*y,'white')\n",
    "    \n",
    "    # hour hand, minute hand, second hand\n",
    "    ax.plot([],[],linewidth=6, color='black')\n",
    "    ax.plot([],[],linewidth=4, color='black')\n",
    "    ax.plot([],[],linewidth=2, color='red')  \n",
    "\n",
    "    # ticks\n",
    "    for tick in np.arange(60):\n",
    "        if tick % 5 == 0:\n",
    "            length = 0.06;\n",
    "            width = 4.0;\n",
    "            color = 'black'\n",
    "        else:\n",
    "            length = 0.03;\n",
    "            width = 4.0;\n",
    "            color = 'gray'\n",
    "        t = np.pi/2.0-tick/30.0*np.pi\n",
    "        x, y = np.cos(t), np.sin(t)\n",
    "        ax.plot(np.array([1.0,1.0-length])*x,np.array([1.0,1.0-length])*y,linewidth=width,markersize=12,color=color)\n",
    "    \n",
    "    # numbers\n",
    "    for number in np.arange(1,13):\n",
    "        t = np.pi/2.0-number/6.0*np.pi\n",
    "        x, y = np.cos(t), np.sin(t)\n",
    "        ax.text(0.8*x,0.8*y,str(number),fontsize=20,horizontalalignment='center',verticalalignment='center')"
   ]
  },
  {
   "cell_type": "markdown",
   "metadata": {},
   "source": [
    "### 5.4 The `frame()` function"
   ]
  },
  {
   "cell_type": "markdown",
   "metadata": {},
   "source": [
    "The `datetime` package is used for time arithmetic.\n",
    "The variable `initial_time` is set as a global variable with the start time of the animation."
   ]
  },
  {
   "cell_type": "code",
   "execution_count": null,
   "metadata": {},
   "outputs": [],
   "source": [
    "import datetime\n",
    "initial_time = datetime.datetime.now()"
   ]
  },
  {
   "cell_type": "markdown",
   "metadata": {},
   "source": [
    "The `frame()` function is used to update the hands for hour, minute and second.\n",
    "This function has a single input argument `second`which specifies the numer of seconds passed after the `ìnitial_time`. "
   ]
  },
  {
   "cell_type": "code",
   "execution_count": null,
   "metadata": {},
   "outputs": [],
   "source": [
    "def frame(second):\n",
    "    \n",
    "    # get axis of figure\n",
    "    ax = fig.gca()\n",
    "\n",
    "    # increase initial_time by second\n",
    "    time = initial_time + datetime.timedelta(0,int(second))\n",
    "    ax.set_title(time.strftime(\"%H:%M:%S\"))\n",
    "    \n",
    "    # hour hand\n",
    "    t = np.pi/2.0-time.hour/6.0*np.pi-time.minute/360.0*np.pi\n",
    "    x, y = np.cos(t), np.sin(t)\n",
    "    hour_hand = ax.get_lines()[0]\n",
    "    hour_hand.set_data(np.array([0.0,0.6])*x,np.array([0.0,0.6])*y)\n",
    "\n",
    "    # minute hand\n",
    "    t = np.pi/2.0-time.minute/30.0*np.pi\n",
    "    x, y = np.cos(t), np.sin(t)\n",
    "    minute_hand = ax.get_lines()[1]\n",
    "    minute_hand.set_data(np.array([0.0,0.7])*x,np.array([0.0,0.7])*y)\n",
    "\n",
    "    # second hand\n",
    "    t = np.pi/2.0-time.second/30.0*np.pi\n",
    "    x, y = np.cos(t), np.sin(t)\n",
    "    second_hand = ax.get_lines()[2]\n",
    "    second_hand.set_data(np.array([0.0,1.0])*x,np.array([0.0,1.0])*y)"
   ]
  },
  {
   "cell_type": "markdown",
   "metadata": {},
   "source": [
    "### 5.5 Generate animation object\n",
    "The animation object is generated with the `FuncAnimation()` function.\n",
    "In order to generate a real time simulation the delay between frames is set to 1000 milliseconds."
   ]
  },
  {
   "cell_type": "code",
   "execution_count": null,
   "metadata": {},
   "outputs": [],
   "source": [
    "import matplotlib.animation\n",
    "ani = matplotlib.animation.FuncAnimation(fig, func=frame, init_func=init, frames=range(0,10) , interval=1000)"
   ]
  },
  {
   "cell_type": "markdown",
   "metadata": {},
   "source": [
    "## 6 Display animation in Juypter Notebook\n",
    "The function `to_jshtml()` represents the animation object as Java Script code embedded in HTML.\n",
    "This can be directly integrated in the Jupyter Notebook with the function `HTML()` form `IPython.display`."
   ]
  },
  {
   "cell_type": "code",
   "execution_count": null,
   "metadata": {},
   "outputs": [],
   "source": [
    "display(HTML(ani.to_jshtml()))"
   ]
  },
  {
   "cell_type": "markdown",
   "metadata": {},
   "source": [
    "## 7 Save animation as a movie file\n",
    "An animation may be saved as a movie in a file by drawing every frame.\n",
    "A list of all installed writers on your system can be generated."
   ]
  },
  {
   "cell_type": "code",
   "execution_count": null,
   "metadata": {},
   "outputs": [],
   "source": [
    "print(matplotlib.animation.writers.list())"
   ]
  },
  {
   "cell_type": "markdown",
   "metadata": {},
   "source": [
    "A widely used data format to store animations are `.gif` files which can be generated with the `pillow` writer. "
   ]
  },
  {
   "cell_type": "code",
   "execution_count": null,
   "metadata": {},
   "outputs": [],
   "source": [
    "ani.save('25-animation-clock.gif', writer='pillow')"
   ]
  },
  {
   "cell_type": "markdown",
   "metadata": {},
   "source": [
    "If no apropriate writer is installed you may install ImageMagick.\n",
    "ImageMagick is free software which runs on most operating systems."
   ]
  },
  {
   "cell_type": "code",
   "execution_count": null,
   "metadata": {},
   "outputs": [],
   "source": [
    "# Instalation of ImageMagick, see https://imagemagick.org/index.php\n",
    "#\n",
    "# Windows\n",
    "# see https://towardsdatascience.com/quick-code-exporting-matplotlib-animations-49cd0ecf32ba\n",
    "#\n",
    "# Google Colab\n",
    "# !apt install imagemagick\n",
    "#\n",
    "# Mac OS\n",
    "# !brew install imagemagick"
   ]
  },
  {
   "cell_type": "markdown",
   "metadata": {},
   "source": [
    "## Literature\n",
    "- https://youtu.be/3IsiOYbdzpU"
   ]
  }
 ],
 "metadata": {
  "kernelspec": {
   "display_name": "base",
   "language": "python",
   "name": "python3"
  },
  "language_info": {
   "codemirror_mode": {
    "name": "ipython",
    "version": 3
   },
   "file_extension": ".py",
   "mimetype": "text/x-python",
   "name": "python",
   "nbconvert_exporter": "python",
   "pygments_lexer": "ipython3",
   "version": "3.11.7"
  }
 },
 "nbformat": 4,
 "nbformat_minor": 1
}

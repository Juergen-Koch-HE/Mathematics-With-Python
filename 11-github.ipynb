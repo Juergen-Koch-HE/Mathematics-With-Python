{
 "cells": [
  {
   "cell_type": "markdown",
   "metadata": {},
   "source": [
    "<img src=\"images/00-mathematics_with_python.png\" style=\"height:250px\" align=\"left\"> "
   ]
  },
  {
   "cell_type": "markdown",
   "metadata": {},
   "source": [
    "<!--NAVIGATION-->\n",
    "< [Part I: Getting Started](10-getting_started.ipynb) |  [2 Python](12-python.ipynb) >"
   ]
  },
  {
   "cell_type": "markdown",
   "metadata": {},
   "source": [
    "# 1 GitHub\n",
    "GitHub is a place to store, share, and collaborate on code projects with version history and team features.\n",
    "\n",
    "## 1.1 Repository\n",
    "The full collection of Jupyter notebooks, Python code, and mathematical examples of the Mathematics with Python project is hosted in a repository on GitHub:\n",
    "\n",
    "[https://github.com/Juergen-Koch-HE/Mathematics-With-Python](https://github.com/Juergen-Koch-HE/Mathematics-With-Python)\n",
    "\n",
    "<img src=\"images/21-github-1.png\" style=\"width:500px\" align=\"center\">\n",
    "\n",
    "## 1.2 Clone or download\n",
    "Push the green button to clone or download the project:\n",
    "\n",
    "<img src=\"images/21-github-2.png\" style=\"width:500px\" align=\"center\">\n",
    "\n",
    "## 1.3 Licence\n",
    "The complete project is open source and free for all uses:\n",
    "\n",
    "<b>Licence:</b> [LICENSE](LICENSE)\n"
   ]
  }
 ],
 "metadata": {
  "kernelspec": {
   "display_name": "venv (3.13.7)",
   "language": "python",
   "name": "python3"
  },
  "language_info": {
   "codemirror_mode": {
    "name": "ipython",
    "version": 3
   },
   "file_extension": ".py",
   "mimetype": "text/x-python",
   "name": "python",
   "nbconvert_exporter": "python",
   "pygments_lexer": "ipython3",
   "version": "3.13.7"
  },
  "toc": {
   "base_numbering": 1,
   "nav_menu": {},
   "number_sections": true,
   "sideBar": true,
   "skip_h1_title": false,
   "title_cell": "Table of Contents",
   "title_sidebar": "Contents",
   "toc_cell": false,
   "toc_position": {},
   "toc_section_display": true,
   "toc_window_display": false
  }
 },
 "nbformat": 4,
 "nbformat_minor": 4
}

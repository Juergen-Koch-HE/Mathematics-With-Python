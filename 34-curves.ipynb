{
 "cells": [
  {
   "cell_type": "markdown",
   "id": "7b2bc8be",
   "metadata": {
    "jp-MarkdownHeadingCollapsed": true
   },
   "source": [
    "# What should I know before I start?\n",
    " - Basic knowledge about Numpy.\n",
    " - Basic knowledge about PyPlot from MatPlotLib."
   ]
  },
  {
   "cell_type": "markdown",
   "id": "08863f5f-dee4-478a-98fe-83a04d5bc6b0",
   "metadata": {},
   "source": [
    "# Curves"
   ]
  },
  {
   "cell_type": "markdown",
   "id": "c4ad8546-5ddc-465d-a3b8-e8c489e07a6f",
   "metadata": {},
   "source": [
    "## What is a curve in 2D?\n",
    "A curve in 2D is a continuous path that moves through the plane, where each point on the curve is defined by a position with two coordinates: one for horizontal direction and one for vertical direction."
   ]
  },
  {
   "cell_type": "markdown",
   "id": "31612bd2-b1ab-44bd-a255-3d7ea0dc3e63",
   "metadata": {},
   "source": [
    "## How to represent a curve in 2D?\n",
    "Curves can be represented in different ways.\n",
    "For the description of 2D curves in Python, a parametric representation is the most suitable.\n",
    "In the parametric representation of a 2D curve $c(t)$, the coordinates $x$ and $y$ of the curve points depend on a parameter $t$:\n",
    "$$\n",
    "    c(t) = \\left( \\begin{array}{c} x(t)\\\\ y(t) \\end{array} \\right), \\quad t \\in I.\n",
    "$$\n",
    "The parameter $t$ runs through an interval of real numbers.\n",
    "\n",
    "A simple example is a circle:\n",
    "$$\n",
    "    c(t) = \\left( \\begin{array}{c} \\cos(t)\\\\ \\sin(t) \\end{array} \\right), \\quad t \\in \\left[0, 2 \\, \\pi \\right].\n",
    "$$\n",
    "We represent this 2D curve in Python with a function: "
   ]
  },
  {
   "cell_type": "code",
   "execution_count": null,
   "id": "b13b79b5-48b1-4b3a-af37-72f17dbb1bad",
   "metadata": {},
   "outputs": [],
   "source": [
    "import numpy as np\n",
    "def circle(t):\n",
    "    x = np.cos(t)\n",
    "    y = np.sin(t)\n",
    "    return x, y"
   ]
  },
  {
   "cell_type": "markdown",
   "id": "e1dcff1a-f021-4b0e-aa7e-de70219a197a",
   "metadata": {},
   "source": [
    "## How to plot a 2D curve?\n",
    "In order to plot a 2D curve we generate a few samples for the parameter t: "
   ]
  },
  {
   "cell_type": "code",
   "execution_count": null,
   "id": "c9fd9e93-9ccc-46c4-93f4-3204511c068d",
   "metadata": {},
   "outputs": [],
   "source": [
    "t = np.linspace(0,2*np.pi,9)"
   ]
  },
  {
   "cell_type": "markdown",
   "id": "8b744e5c-5ae1-4c47-88eb-3abb17762e94",
   "metadata": {},
   "source": [
    "Then we calculate the $x$ and $y$ values which correspond to the parameter values: "
   ]
  },
  {
   "cell_type": "code",
   "execution_count": null,
   "id": "95084221-da72-41b0-9b0d-942afb36ff66",
   "metadata": {},
   "outputs": [],
   "source": [
    "x, y = circle(t)\n",
    "print('x = ',x)\n",
    "print('y = ',y)"
   ]
  },
  {
   "cell_type": "markdown",
   "id": "0468f6b3-0102-45c7-bef2-710f8adf61b5",
   "metadata": {},
   "source": [
    "Now we plot the $x$ and $y$ values:"
   ]
  },
  {
   "cell_type": "code",
   "execution_count": null,
   "id": "86c462d7-10d5-460e-a6b0-df7f85a1ba66",
   "metadata": {},
   "outputs": [],
   "source": [
    "import matplotlib.pyplot as plt\n",
    "fig, ax = plt.subplots()\n",
    "ax.set_aspect('equal')\n",
    "ax.axis([-1.8,1.8,-1.8,1.8])\n",
    "ax.text(x[0]+0.1,y[0],'t=0,t=2pi')\n",
    "ax.text(x[1]+0.1,y[1],'t=pi/4')\n",
    "ax.text(x[2]+0.1,y[2],'t=pi/2')\n",
    "ax.text(x[7]+0.1,y[7],'t=7pi/4')\n",
    "ax.plot(x,y,color='black',linewidth=1,linestyle='-',markersize=8,marker='o')"
   ]
  },
  {
   "cell_type": "markdown",
   "id": "b893d0d7-e7e9-46e2-bf05-f95454d81cc1",
   "metadata": {},
   "source": [
    "In order to increase the visual quality we use more parameter values:"
   ]
  },
  {
   "cell_type": "code",
   "execution_count": null,
   "id": "a69d936e-3c00-4a0b-b125-e5ddf09e01f8",
   "metadata": {
    "scrolled": true
   },
   "outputs": [],
   "source": [
    "t = np.linspace(0,2*np.pi,100)\n",
    "x, y = circle(t)\n",
    "ax.clear()\n",
    "ax.set_aspect('equal')\n",
    "ax.axis([-1.8,1.8,-1.8,1.8])\n",
    "ax.plot(x,y,color='black',linewidth=1,linestyle='-')\n",
    "display(fig)"
   ]
  },
  {
   "cell_type": "markdown",
   "id": "66161670-9f0f-48f7-b2da-e27b9c7d9dea",
   "metadata": {},
   "source": [
    "## How to extend to 3D curves?"
   ]
  },
  {
   "cell_type": "code",
   "execution_count": null,
   "id": "06b97aee",
   "metadata": {},
   "outputs": [],
   "source": []
  }
 ],
 "metadata": {
  "kernelspec": {
   "display_name": "Python 3 (ipykernel)",
   "language": "python",
   "name": "python3"
  },
  "language_info": {
   "codemirror_mode": {
    "name": "ipython",
    "version": 3
   },
   "file_extension": ".py",
   "mimetype": "text/x-python",
   "name": "python",
   "nbconvert_exporter": "python",
   "pygments_lexer": "ipython3",
   "version": "3.11.7"
  }
 },
 "nbformat": 4,
 "nbformat_minor": 5
}

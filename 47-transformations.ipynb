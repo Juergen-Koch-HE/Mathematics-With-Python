{
 "cells": [
  {
   "cell_type": "markdown",
   "metadata": {
    "toc": true
   },
   "source": [
    "<h1>Transformations</h1>"
   ]
  },
  {
   "cell_type": "markdown",
   "metadata": {
    "heading_collapsed": true
   },
   "source": [
    "# What should I know before I start?\n",
    " - How to bulid a vector and a matrix with `np.array()`.\n",
    " - How to multiply matrices with `@`.\n",
    " - How to draw a figure with `pyplot`."
   ]
  },
  {
   "cell_type": "markdown",
   "metadata": {},
   "source": [
    "# Transformations"
   ]
  },
  {
   "cell_type": "markdown",
   "metadata": {},
   "source": [
    "## What is a transformation?\n",
    "A transformation is a mathematical operation that changes the position, size, or orientation of a shape or point.\n",
    "Common types include translation, rotation, scaling, and reflection.\n",
    "Each transformation can be represented using matrices applied to points or shapes using coordinate geometry. \n",
    "We will focus on transformations in the two-dimensional plane, especially on rotations in 2D."
   ]
  },
  {
   "cell_type": "markdown",
   "metadata": {
    "heading_collapsed": true
   },
   "source": [
    "## How to represent a rotation in 2D?\n",
    "A rotation in 2D about the origin by an angle $\\alpha$ is represented by a rotation matrix $\\mathbf{R}$.\n",
    "The rotation transforms a point $(x_1 | x_2)$ to a new point $(x_1' | x_2')$ using this matrix:\n",
    "\n",
    "$$\n",
    "\\begin{bmatrix}\n",
    "x_1' \\\\\n",
    "x_2'\n",
    "\\end{bmatrix}\n",
    "=\n",
    "\\underbrace{\n",
    "\\begin{bmatrix}\n",
    "\\cos{\\alpha} & -\\sin{\\alpha} \\\\\n",
    "\\sin{\\alpha} &  \\cos{\\alpha} \\\\\n",
    "\\end{bmatrix}\n",
    "}_{\\displaystyle \\mathbf{R}}\n",
    "\\begin{bmatrix}\n",
    "x_1 \\\\\n",
    "x_2\n",
    "\\end{bmatrix}\n",
    "$$\n",
    "\n",
    "A positive angle $\\alpha$ results in a mathematical positive rotation, this means a counterclockwise rotation, a negative angle causes a clockwise rotation, and the origin $(0 | 0)$ remains fixed during the transformation."
   ]
  },
  {
   "cell_type": "markdown",
   "metadata": {},
   "source": [
    "## How to apply a translation in 2D to a single point?\n",
    "A simple example is a rotation with $\\alpha=\\frac{\\pi}{2}$: "
   ]
  },
  {
   "cell_type": "code",
   "execution_count": null,
   "metadata": {},
   "outputs": [],
   "source": [
    "import numpy as np\n",
    "np.set_printoptions(precision=3, suppress=True)\n",
    "alpha = np.pi/2\n",
    "R = np.array([ [np.cos(alpha),-np.sin(alpha)], [np.sin(alpha), np.cos(alpha)] ])\n",
    "print(f\"Rotation matrix: \\n{R}\")\n",
    "x = np.array([1., 1.])\n",
    "print(f\"Original point: {x}\")\n",
    "xs = R@x\n",
    "print(f\"Rotated point: {xs}\")\n"
   ]
  },
  {
   "cell_type": "markdown",
   "metadata": {},
   "source": [
    "## How to apply a rotation to a shape in 2D?\n",
    "In order to apply a rotation to a shape represented by a polygon the idea is to apply the rotation to all points of the polygon."
   ]
  },
  {
   "cell_type": "code",
   "execution_count": null,
   "metadata": {},
   "outputs": [],
   "source": [
    "import matplotlib.pyplot as plt\n",
    "x = np.array([ [1, 3, 2, 1], [2, 2, 4, 2] ])\n",
    "fig, ax = plt.subplots()\n",
    "ax.set_aspect('equal')\n",
    "ax.axis([-5,5,-1,5])\n",
    "ax.plot(x[0], x[1], 'k-')\n",
    "ax.plot(0, 0, '*r')\n",
    "ax.text(0,-0.1,'center of rotation', fontsize=12, ha='center', va='top')\n",
    "xs = R@x\n",
    "ax.plot(xs[0], xs[1], 'r:')"
   ]
  },
  {
   "cell_type": "markdown",
   "metadata": {},
   "source": [
    "## How to apply a rotation to more than one shape in 2D?\n",
    "To apply a rotation to multiple shapes, we store the data for all shapes in a single matrix and perform the rotation using one matrix multiplication.\n",
    "The data for different shapes must be separated by `numpy.nan` within the matrix."
   ]
  },
  {
   "cell_type": "code",
   "execution_count": null,
   "metadata": {},
   "outputs": [],
   "source": [
    "y = np.array([ [1, 3, 3, 1, 1], [0, 0, 1, 1, 0] ])\n",
    "nan = np.array([[np.nan],[np.nan]])\n",
    "xy = np.concatenate((x, nan, y), axis=1)\n",
    "fig, ax = plt.subplots()\n",
    "ax.set_aspect('equal')\n",
    "ax.axis([-5,5,-1,5])\n",
    "ax.plot(xy[0], xy[1], 'k-')\n",
    "ax.plot(0, 0, '*r')\n",
    "ax.text(0,-0.1,'center of rotation', fontsize=12, ha='center', va='top')\n",
    "xys = R@xy\n",
    "ax.plot(xys[0], xys[1], 'r:')"
   ]
  },
  {
   "cell_type": "markdown",
   "metadata": {},
   "source": [
    "## How to rotate about an arbitrary center point?\n",
    "To rotate about the center point with the coordinates $(c_1 | c_2)$ we will proceed in three steps:\n",
    "- Translate the shape so that $(c_1 | c_2)$ becomes the origin:\n",
    "$$\n",
    "\\begin{bmatrix}\n",
    "x_1' \\\\\n",
    "x_2'\n",
    "\\end{bmatrix}\n",
    "=\n",
    "\\begin{bmatrix}\n",
    "x_1 \\\\\n",
    "x_2\n",
    "\\end{bmatrix}\n",
    "-\n",
    "\\begin{bmatrix}\n",
    "c_1 \\\\\n",
    "c_2\n",
    "\\end{bmatrix}\n",
    "$$\n",
    "- Apply the rotation around the origin:\n",
    "$$\n",
    "\\begin{bmatrix}\n",
    "x_1'' \\\\\n",
    "x_2''\n",
    "\\end{bmatrix}\n",
    "=\n",
    "\\underbrace{\n",
    "\\begin{bmatrix}\n",
    "\\cos{\\alpha} & -\\sin{\\alpha} \\\\\n",
    "\\sin{\\alpha} &  \\cos{\\alpha} \\\\\n",
    "\\end{bmatrix}\n",
    "}_{\\displaystyle \\mathbf{R}}\n",
    "\\begin{bmatrix}\n",
    "x_1' \\\\\n",
    "x_2'\n",
    "\\end{bmatrix}\n",
    "$$\n",
    "- Translate back to the original position:\n",
    "$$\n",
    "\\begin{bmatrix}\n",
    "x_1''' \\\\\n",
    "x_2'''\n",
    "\\end{bmatrix}\n",
    "=\n",
    "\\begin{bmatrix}\n",
    "x_1'' \\\\\n",
    "x_2''\n",
    "\\end{bmatrix}\n",
    "+\n",
    "\\begin{bmatrix}\n",
    "c_1 \\\\\n",
    "c_2\n",
    "\\end{bmatrix}\n",
    "$$"
   ]
  },
  {
   "cell_type": "code",
   "execution_count": null,
   "metadata": {},
   "outputs": [],
   "source": [
    "fig, ax = plt.subplots()\n",
    "ax.set_aspect('equal')\n",
    "ax.axis([-2,5,-1,5])\n",
    "ax.plot(xy[0], xy[1], 'k-')\n",
    "c = np.array([[2.0],[1.5]])\n",
    "ax.plot(c[0,0], c[1,0], '*r')\n",
    "ax.text(c[0,0],c[1,0]-0.1,'center of rotation', fontsize=12, ha='center', va='top')\n",
    "xys = xy - c\n",
    "xyss = R@xys\n",
    "xysss = xyss + c\n",
    "ax.plot(xysss[0], xysss[1], 'r:')"
   ]
  },
  {
   "cell_type": "markdown",
   "metadata": {},
   "source": [
    "# Conclusion\n",
    " - A rotation around the origin is performed by a multiplication with a rotation matrix.\n",
    " - If you want to rotate about an arbitrary center point you first have to apply a translation, then apply the rotation about the origin and then translate back."
   ]
  },
  {
   "cell_type": "markdown",
   "metadata": {},
   "source": [
    "# Did you get it?\n",
    "<div class=\"alert alert-block alert-info\">\n",
    "\n",
    "<b>Task 1</b>\n",
    "Draw the square defined by the points $(1|1)$, $(2|1)$, $(2|2)$ and $(1|2)$.\n",
    "Then, rotate the square by an angle of $45°$ and draw the resulting rotated square.\n",
    "</div>"
   ]
  },
  {
   "cell_type": "code",
   "execution_count": null,
   "metadata": {},
   "outputs": [],
   "source": [
    "# Task 1"
   ]
  },
  {
   "cell_type": "markdown",
   "metadata": {},
   "source": [
    "## Literature\n",
    "- https://youtu.be/???"
   ]
  }
 ],
 "metadata": {
  "kernelspec": {
   "display_name": "base",
   "language": "python",
   "name": "python3"
  },
  "language_info": {
   "codemirror_mode": {
    "name": "ipython",
    "version": 3
   },
   "file_extension": ".py",
   "mimetype": "text/x-python",
   "name": "python",
   "nbconvert_exporter": "python",
   "pygments_lexer": "ipython3",
   "version": "3.11.7"
  },
  "toc": {
   "base_numbering": 1,
   "nav_menu": {},
   "number_sections": true,
   "sideBar": true,
   "skip_h1_title": true,
   "title_cell": "Linear system",
   "title_sidebar": "Linear system",
   "toc_cell": true,
   "toc_position": {
    "height": "calc(100% - 180px)",
    "left": "10px",
    "top": "150px",
    "width": "284px"
   },
   "toc_section_display": false,
   "toc_window_display": true
  }
 },
 "nbformat": 4,
 "nbformat_minor": 4
}

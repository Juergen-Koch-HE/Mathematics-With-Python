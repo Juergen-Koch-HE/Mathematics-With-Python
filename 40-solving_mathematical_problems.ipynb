{
 "cells": [
  {
   "cell_type": "markdown",
   "metadata": {},
   "source": [
    "<img src=\"images/00-mathematics_with_python.png\" style=\"width:500px\" align=\"left\"> "
   ]
  },
  {
   "cell_type": "markdown",
   "metadata": {},
   "source": [
    "<!--NAVIGATION-->\n",
    "< [II Python Packages](20-python_packages.ipynb) | [Appendix](a0-appendix.ipynb) >"
   ]
  },
  {
   "cell_type": "markdown",
   "metadata": {},
   "source": [
    "# III Solving Mathematical Problems\n",
    "## [1 Linear Systems](31-linear_systems.ipynb)\n",
    "## [2 Newton's Method](32-newtons_method.ipynb)\n",
    "## [3 Euler's Method](33-eulers_method.ipynb)\n",
    "## [4 Curves](34-curves.ipynb)\n",
    "## [5 Surfaces](35-surfaces.ipynb)\n",
    "## [6 Direction Fields](36-direction-fields.ipynb)\n",
    "## [7 Transformations](37-transformations.ipynb)"
   ]
  },
  {
   "cell_type": "code",
   "execution_count": null,
   "metadata": {},
   "outputs": [],
   "source": []
  }
 ],
 "metadata": {
  "kernelspec": {
   "display_name": "Python 3 (ipykernel)",
   "language": "python",
   "name": "python3"
  },
  "language_info": {
   "codemirror_mode": {
    "name": "ipython",
    "version": 3
   },
   "file_extension": ".py",
   "mimetype": "text/x-python",
   "name": "python",
   "nbconvert_exporter": "python",
   "pygments_lexer": "ipython3",
   "version": "3.11.7"
  },
  "toc": {
   "base_numbering": 1,
   "nav_menu": {},
   "number_sections": true,
   "sideBar": true,
   "skip_h1_title": false,
   "title_cell": "Table of Contents",
   "title_sidebar": "Contents",
   "toc_cell": false,
   "toc_position": {},
   "toc_section_display": true,
   "toc_window_display": false
  }
 },
 "nbformat": 4,
 "nbformat_minor": 4
}

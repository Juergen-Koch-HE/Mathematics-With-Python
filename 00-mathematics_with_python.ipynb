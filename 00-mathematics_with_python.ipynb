{
 "cells": [
  {
   "cell_type": "markdown",
   "metadata": {},
   "source": [
    "<img src=\"images/00-mathematics_with_python.png\" style=\"height:250px\" align=\"left\"> "
   ]
  },
  {
   "cell_type": "markdown",
   "metadata": {},
   "source": [
    "# Mathematics with Python\n",
    "## A Practical Approach\n",
    "This Jupyter Notebook is an introduction to mathematical computing using Python.\n",
    "### [Part   I: Getting Started](10-getting_started.ipynb)\n",
    "### [Part  II: Python Programming](20-python_programming.ipynb)\n",
    "### [Part III: Python Packages](30-python_packages.ipynb)\n",
    "### [Part  IV: Solving Mathematical Problems](40-solving_mathematical_problems.ipynb)\n",
    "### [Part   V: Literature](50-literature.ipynb)\n",
    "\n",
    "<b>Author:</b> [Prof. Dr. Jürgen Koch](https://www.hs-esslingen.de/personen/juergen-koch)\n",
    "\n",
    "<b>Licence:</b> [LICENSE](LICENSE)"
   ]
  }
 ],
 "metadata": {
  "kernelspec": {
   "display_name": "Python 3 (ipykernel)",
   "language": "python",
   "name": "python3"
  },
  "language_info": {
   "codemirror_mode": {
    "name": "ipython",
    "version": 3
   },
   "file_extension": ".py",
   "mimetype": "text/x-python",
   "name": "python",
   "nbconvert_exporter": "python",
   "pygments_lexer": "ipython3",
   "version": "3.11.7"
  },
  "toc": {
   "base_numbering": 1,
   "nav_menu": {},
   "number_sections": true,
   "sideBar": true,
   "skip_h1_title": false,
   "title_cell": "Table of Contents",
   "title_sidebar": "Contents",
   "toc_cell": false,
   "toc_position": {},
   "toc_section_display": true,
   "toc_window_display": false
  }
 },
 "nbformat": 4,
 "nbformat_minor": 4
}

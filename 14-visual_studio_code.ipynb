{
 "cells": [
  {
   "cell_type": "markdown",
   "metadata": {},
   "source": [
    "<img src=\"images/00-mathematics_with_python.png\" style=\"width:500px\" align=\"left\"> "
   ]
  },
  {
   "cell_type": "markdown",
   "metadata": {},
   "source": [
    "<!--NAVIGATION-->\n",
    "< [3 Jupyter Notebook](13-jupyter_notebook.ipynb) | [II Python Programming](20-python_programming.ipynb) >"
   ]
  },
  {
   "cell_type": "markdown",
   "metadata": {},
   "source": [
    "# 4 Visual Studio Code\n",
    "Visual Studio Code (VS Code) is a free, feature-rich code editor developed by Microsoft that can be customized for any programming language or development workflow through extensions."
   ]
  },
  {
   "cell_type": "markdown",
   "metadata": {},
   "source": [
    "## 4.1 Installation\n",
    "Download and install the latest version of Python from the official website:\n",
    "- [Download Python from code.visualstudio.com](https://code.visualstudio.com/)"
   ]
  },
  {
   "cell_type": "markdown",
   "metadata": {},
   "source": [
    "## 4.2 Python Extension\n",
    "The **Python** extension for Visual Studio Code is the official Microsoft extension that adds comprehensive Python language support to Visual Studio Code.\n",
    "\n",
    "**Installation Steps**\n",
    "\n",
    "- Open Visual Studio Code\n",
    "- Access Extensions: Press `Ctrl+Shift+X` (Windows/Linux) or `Cmd+Shift+X` (Mac)\n",
    "- Type **Python** in the search bar\n",
    "- Click Install on the **Python** extension for Visual Studio Code by Microsoft\n",
    "- Visual Studio Code may prompt you to reload the window"
   ]
  }
 ],
 "metadata": {
  "kernelspec": {
   "display_name": "venv (3.13.7)",
   "language": "python",
   "name": "python3"
  },
  "language_info": {
   "codemirror_mode": {
    "name": "ipython",
    "version": 3
   },
   "file_extension": ".py",
   "mimetype": "text/x-python",
   "name": "python",
   "nbconvert_exporter": "python",
   "pygments_lexer": "ipython3",
   "version": "3.13.7"
  },
  "toc": {
   "base_numbering": 1,
   "nav_menu": {},
   "number_sections": true,
   "sideBar": true,
   "skip_h1_title": false,
   "title_cell": "Table of Contents",
   "title_sidebar": "Contents",
   "toc_cell": false,
   "toc_position": {},
   "toc_section_display": true,
   "toc_window_display": false
  }
 },
 "nbformat": 4,
 "nbformat_minor": 4
}

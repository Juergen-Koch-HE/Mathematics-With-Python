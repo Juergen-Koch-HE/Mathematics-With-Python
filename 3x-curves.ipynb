{
 "cells": [
  {
   "cell_type": "markdown",
   "id": "7b2bc8be",
   "metadata": {},
   "source": [
    "<img src=\"images/00-mathematics_with_python.png\" style=\"height:250px\" align=\"left\">"
   ]
  },
  {
   "cell_type": "markdown",
   "id": "cc92e391",
   "metadata": {},
   "source": [
    "<!--NAVIGATION-->\n",
    "< [3.x](3x.ipynb) | [3.x](3x.ipynb) >"
   ]
  },
  {
   "cell_type": "markdown",
   "id": "a1e0900a",
   "metadata": {},
   "source": [
    "# 3.x Curves"
   ]
  },
  {
   "cell_type": "code",
   "execution_count": null,
   "id": "06b97aee",
   "metadata": {},
   "outputs": [],
   "source": [
    "import numpy as np\n",
    "import matplotlib.pyplot as plt\n",
    "fig, ax = plt.subplots()\n",
    "ax.set_aspect('equal')\n",
    "#t = np.arange(0.0,2*np.pi,0.1)\n",
    "t = np.linspace(0.0,2*np.pi,100)\n",
    "print(t)\n",
    "r = 0.7\n",
    "x = r*np.cos(t)\n",
    "y = r*np.sin(t)\n",
    "ax.plot(x,y)\n",
    "display(fig)"
   ]
  },
  {
   "cell_type": "code",
   "execution_count": null,
   "id": "353e9e0d",
   "metadata": {},
   "outputs": [],
   "source": []
  }
 ],
 "metadata": {
  "kernelspec": {
   "display_name": "Python 3 (ipykernel)",
   "language": "python",
   "name": "python3"
  },
  "language_info": {
   "codemirror_mode": {
    "name": "ipython",
    "version": 3
   },
   "file_extension": ".py",
   "mimetype": "text/x-python",
   "name": "python",
   "nbconvert_exporter": "python",
   "pygments_lexer": "ipython3",
   "version": "3.9.7"
  }
 },
 "nbformat": 4,
 "nbformat_minor": 5
}

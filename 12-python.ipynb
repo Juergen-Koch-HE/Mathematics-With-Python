{
 "cells": [
  {
   "cell_type": "markdown",
   "metadata": {},
   "source": [
    "<img src=\"images/00-mathematics_with_python.png\" style=\"width:500px\" align=\"left\"> "
   ]
  },
  {
   "cell_type": "markdown",
   "metadata": {},
   "source": [
    "<!--NAVIGATION-->\n",
    "< [1 GitHub](12-github.ipynb) | [3 Jupyter Notebook](13-jupyter_notebook.ipynb) >"
   ]
  },
  {
   "cell_type": "markdown",
   "metadata": {},
   "source": [
    "# 2 Python\n",
    "Python is a high-level, interpreted programming language known for its simple, readable syntax and versatility. It's widely used for web development, data science, automation, artificial intelligence, and general-purpose programming. Python emphasizes code readability and has a vast ecosystem of libraries, making it beginner-friendly while remaining powerful for complex applications.\n",
    "\n",
    "While Python's core functionality is intentionally minimal, its true power comes from the extensive ecosystem of third-party packages available through pip. This modular approach allows you to install only the packages you need for your specific projects."
   ]
  },
  {
   "cell_type": "markdown",
   "metadata": {},
   "source": [
    "## 2.1 Installation\n",
    "Download and install the latest version of Python from the official website:\n",
    "- [Download Python from python.org](https://www.python.org/downloads/)"
   ]
  },
  {
   "cell_type": "markdown",
   "metadata": {},
   "source": [
    "## 2.2 Verification\n",
    "Verify that Python was installed correctly by running the following command in your terminal or command prompt:\n",
    "\n",
    "```bash\n",
    "python3 --version\n",
    "```\n",
    "\n",
    "Expected output:\n",
    "```\n",
    "Python 3.13.7\n",
    "```\n",
    "\n",
    "Python comes with pip, the standard package installer that allows you to install, update, and manage Python packages.\n",
    "Verify that pip is working by running:\n",
    "\n",
    "```bash\n",
    "pip3 --version\n",
    "```\n",
    "\n",
    "Expected output:\n",
    "```\n",
    "pip 25.2 from /opt/homebrew/lib/python3.13/site-packages/pip (python 3.13)\n",
    "```"
   ]
  }
 ],
 "metadata": {
  "kernelspec": {
   "display_name": "venv (3.13.7)",
   "language": "python",
   "name": "python3"
  },
  "language_info": {
   "codemirror_mode": {
    "name": "ipython",
    "version": 3
   },
   "file_extension": ".py",
   "mimetype": "text/x-python",
   "name": "python",
   "nbconvert_exporter": "python",
   "pygments_lexer": "ipython3",
   "version": "3.13.7"
  },
  "toc": {
   "base_numbering": 1,
   "nav_menu": {},
   "number_sections": true,
   "sideBar": true,
   "skip_h1_title": false,
   "title_cell": "Table of Contents",
   "title_sidebar": "Contents",
   "toc_cell": false,
   "toc_position": {},
   "toc_section_display": true,
   "toc_window_display": false
  }
 },
 "nbformat": 4,
 "nbformat_minor": 4
}

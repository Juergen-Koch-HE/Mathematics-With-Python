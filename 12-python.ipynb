{
 "cells": [
  {
   "cell_type": "markdown",
   "metadata": {},
   "source": [
    "<img src=\"images/00-mathematics_with_python.png\" style=\"width:500px\" align=\"left\"> "
   ]
  },
  {
   "cell_type": "markdown",
   "metadata": {},
   "source": [
    "<!--NAVIGATION-->\n",
    "< [1 GitHub](12-github.ipynb) | [3 Jupyter Notebook](13-jupyter_notebook.ipynb) >"
   ]
  },
  {
   "cell_type": "markdown",
   "metadata": {},
   "source": [
    "# 2 Python\n",
    "Python is a high-level, interpreted programming language known for its simple, readable syntax and versatility.\n",
    "It's widely used for web development, data science, automation, artificial intelligence, and general-purpose programming.\n",
    "Python emphasizes code readability and has a vast ecosystem of libraries, making it beginner-friendly while remaining powerful for complex applications.\n",
    "However, due to its interpreted nature, Python code can be slower than programs written in compiled languages like C, C++, or Fortran, which are often preferred for applications requiring raw speed and performance."
   ]
  },
  {
   "cell_type": "markdown",
   "metadata": {},
   "source": [
    "## 2.1 Installation\n",
    "Download and install the latest version of Python from the official website:\n",
    "- [Download Python from python.org](https://www.python.org/downloads/)\n",
    "\n",
    "Verify that Python was installed correctly by running the following command in your terminal or command prompt:\n",
    "\n",
    "```bash\n",
    "python3 --version\n",
    "```\n",
    "\n",
    "Expected output:\n",
    "```\n",
    "Python 3.13.7\n",
    "```"
   ]
  },
  {
   "cell_type": "markdown",
   "metadata": {},
   "source": [
    "## 2.2 Packages\n",
    "Python's core functionality is intentionally minimal, but its true strength lies in the vast and extensive ecosystem of third-party packages available through `pip`, the standard package installer.\n",
    "This modular approach enables you to install only the packages required for your specific projects, keeping your environment lightweight and organized.\n",
    "Most of these packages are open-source and completely free to use, which means you can leverage the collective efforts of the Python community to accelerate your development without incurring significant costs.\n",
    "With thousands of packages available, you can find pre-built solutions for everything from data science and machine learning to web development and automation.\n",
    "To get started with package management, you can verify that `pip` is installed and working correctly by running:\n",
    "\n",
    "```bash\n",
    "pip3 --version\n",
    "```\n",
    "\n",
    "Expected output:\n",
    "```\n",
    "pip 25.2 from /opt/homebrew/lib/python3.13/site-packages/pip (python 3.13)\n",
    "```\n",
    "\n",
    "Let's demonstrate the package installation process by installing `numpy`, a widely used library for mathematical calculations in Python.\n",
    "To install `numpy`, run the following command:\n",
    "\n",
    "```bash\n",
    "pip3 install numpy\n",
    "```\n",
    "\n",
    "After the installation is complete, you should see a success message indicating the version of `numpy` that was installed, such as:\n",
    "\n",
    "```bash\n",
    "Successfully installed numpy-2.3.3\n",
    "```\n",
    "\n",
    "This confirms that version `2.3.3` of the `numpy` package has been successfully installed and is ready to use.\n",
    "\n",
    "To use numpy in your Python code, you can import it using the commonly used alias `np`, like this:\n",
    "\n",
    "```python\n",
    "import numpy as np\n",
    "```\n",
    "\n",
    "This allows you to access `numpy` functions and classes using the `np` prefix, making it easier to write concise and readable code.\n",
    "\n",
    "Note that packages installed via `pip` are not automatically updated.\n",
    "If a newer version of a package becomes available, you'll need to update it manually using the following command:\n",
    "\n",
    "```bash\n",
    "pip3 install --upgrade numpy\n",
    "```\n",
    "\n",
    "This ensures you have the latest features, bug fixes, and security patches for the package.\n",
    "\n",
    "For advanced users and developers: Utilize the `venv` module to create and manage isolated virtual environments, allowing you to install and manage different versions of packages for specific projects, ensuring reproducibility and avoiding version conflicts."
   ]
  },
  {
   "cell_type": "markdown",
   "metadata": {},
   "source": [
    "## 2.3 Did you get it?\n",
    "<div class=\"alert alert-block alert-info\">\n",
    "\n",
    "<b>Task 1</b>\n",
    "\n",
    "What is the key difference between interpreted and compiled programming languages?\n",
    "</div>\n",
    "\n",
    "<div class=\"alert alert-block alert-info\">\n",
    "\n",
    "<b>Task 2</b>\n",
    "\n",
    "What does it mean that most Python packages are open source and free to use? \n",
    "</div>\n",
    "\n",
    "<div class=\"alert alert-block alert-info\">\n",
    "\n",
    "<b>Task 3</b>\n",
    "\n",
    "Install the `sympy` package on your computer. \n",
    "</div>\n",
    "\n",
    "<div class=\"alert alert-block alert-info\">\n",
    "\n",
    "<b>Task 4</b>\n",
    "\n",
    "How can you make sure that the newest version of the `sympy` package is installed on your computer?\n",
    "</div>"
   ]
  }
 ],
 "metadata": {
  "kernelspec": {
   "display_name": "venv (3.13.7)",
   "language": "python",
   "name": "python3"
  },
  "language_info": {
   "codemirror_mode": {
    "name": "ipython",
    "version": 3
   },
   "file_extension": ".py",
   "mimetype": "text/x-python",
   "name": "python",
   "nbconvert_exporter": "python",
   "pygments_lexer": "ipython3",
   "version": "3.13.7"
  },
  "toc": {
   "base_numbering": 1,
   "nav_menu": {},
   "number_sections": true,
   "sideBar": true,
   "skip_h1_title": false,
   "title_cell": "Table of Contents",
   "title_sidebar": "Contents",
   "toc_cell": false,
   "toc_position": {},
   "toc_section_display": true,
   "toc_window_display": false
  }
 },
 "nbformat": 4,
 "nbformat_minor": 4
}

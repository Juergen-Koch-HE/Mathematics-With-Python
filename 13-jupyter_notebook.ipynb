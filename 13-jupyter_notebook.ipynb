{
 "cells": [
  {
   "cell_type": "markdown",
   "metadata": {},
   "source": [
    "<img src=\"images/00-mathematics_with_python.png\" style=\"width:500px\" align=\"left\"> "
   ]
  },
  {
   "cell_type": "markdown",
   "metadata": {},
   "source": [
    "<!--NAVIGATION-->\n",
    "< [2 Python](12-python.ipynb) | [4 Visual Studio Code](14-visual-studio-code.ipynb) >"
   ]
  },
  {
   "cell_type": "markdown",
   "metadata": {},
   "source": [
    "# 3 Jupyter Notebook\n",
    "A Jupyter Notebook is an open source web application that allows you to create and share documents that contain code, visualizations, and explanatory text with mathematical equations.\n",
    "It's widely used for data science, research, and educational purposes because you can write and execute code step-by-step while documenting your project and displaying results inline."
   ]
  },
  {
   "cell_type": "markdown",
   "metadata": {},
   "source": [
    "## 3.1 Installation\n",
    "The easiest way to install Jupyter Notebook is using pip, Python's package installer:\n",
    "\n",
    "`pip3 install jupyter`"
   ]
  },
  {
   "cell_type": "markdown",
   "metadata": {},
   "source": [
    "## 3.2 Launching Jupyter\n",
    "Before starting Jupyter, create a dedicated folder for your notebook files to keep your projects organized:\n",
    "\n",
    "`mkdir mathe2-labor`\n",
    "\n",
    "Always start Jupyter from the folder where you want to store your notebooks, as this becomes your working directory and root folder in the Jupyter interface:\n",
    "\n",
    "`cd mathe2-labor`\n",
    "\n",
    "Start Jupyter Notebook with:\n",
    "\n",
    "`jupyter notebook`\n",
    "\n",
    "This command will:\n",
    "\n",
    "- Start the Jupyter server locally\n",
    "- Automatically open your default web browser\n",
    "- Display the Jupyter interface at http://localhost:8888/tree\n",
    "- Show the file browser in your current directory"
   ]
  },
  {
   "cell_type": "markdown",
   "metadata": {},
   "source": [
    "## 3.3 Working with Notebooks\n",
    "Jupyter will create `.ipynb` files in IPython Notebook format for your projects.\n",
    "Please note that the IPython Notebook format is not the same as a `.py`Python format file!\n",
    "\n",
    "Jupyter notebooks offer two different types of cells: <b>Markdown</b> and <b>Code</b>.\n",
    "For a detailed description see [Jupyter](https://jupyter.org)."
   ]
  },
  {
   "cell_type": "markdown",
   "metadata": {},
   "source": [
    "## 3.4 Markdown Cell\n",
    "The explanatory text with mathematical equations are written in Markdown. Markdown is a markup language with a simple text syntax.\n",
    "\n",
    "The following example consitst of a heading `### ...`, an inline mathematical formula `$...$` and a block mathematical formula `$$...$$`.\n",
    "For the typsetting of mathematical formulas most $\\LaTeX$ commands work.\n",
    "\n",
    "<img src=\"images/12-jupyter_notebook_markdown.png\" style=\"width:500px\" align=\"left\">"
   ]
  },
  {
   "cell_type": "markdown",
   "metadata": {},
   "source": [
    "### Simple plotting example\n",
    "We generate a plot of the function $f$ with\n",
    "$$\n",
    "f(x) = \\frac{\\sin(x)}{x}, \\quad x \\in [-10,10].\n",
    "$$\n",
    "\n",
    "For more information about Markdown and $\\LaTeX$ see:\n",
    "- [The Ultimate Markdown Guide for Jupyter Notebook](https://medium.com/analytics-vidhya/the-ultimate-markdown-guide-for-jupyter-notebook-d5e5abf728fd)\n",
    "- [Markdown Cheat Sheet](https://www.markdownguide.org/cheat-sheet/)\n",
    "- [GitHub Markdown Documentation](https://docs.github.com/en/get-started/writing-on-github/getting-started-with-writing-and-formatting-on-github/basic-writing-and-formatting-syntax)\n",
    "- [Markdown Guide](https://www.markdownguide.org/)\n",
    "- [CommonMark Specification (Technical standard)](https://commonmark.org/)\n",
    "- [Jupyter Notebook Math Documentation](https://jupyter-notebook.readthedocs.io/en/stable/examples/Notebook/Working%20With%20Markdown%20Cells.html#LaTeX-equations)\n",
    "- [MathJax Supported LaTeX Commands](https://docs.mathjax.org/en/latest/input/tex/macros/index.html)\n",
    "\n"
   ]
  },
  {
   "cell_type": "markdown",
   "metadata": {},
   "source": [
    "## 3.5 Code Cell\n",
    "In a code cell program statements may be executed.\n",
    "Similar to a pocket calculator, the result of the calculation is displayed immediately.\n",
    "While Jupyter Notebook code cells can run commands from different programming languages (Python, R, Julia, Scala, etc. using various kernels), we exclusively use Python."
   ]
  },
  {
   "cell_type": "code",
   "execution_count": null,
   "metadata": {},
   "outputs": [],
   "source": [
    "import numpy as np\n",
    "import matplotlib.pyplot as plt\n",
    "x = np.linspace(-10, 10, 1000)\n",
    "plt.plot(x, np.sin(x)/x)"
   ]
  },
  {
   "cell_type": "markdown",
   "metadata": {},
   "source": [
    "<img src=\"images/12-jupyter_notebook_plot.png\" style=\"width:500px\" align=\"left\">"
   ]
  }
 ],
 "metadata": {
  "kernelspec": {
   "display_name": "venv (3.13.7)",
   "language": "python",
   "name": "python3"
  },
  "language_info": {
   "codemirror_mode": {
    "name": "ipython",
    "version": 3
   },
   "file_extension": ".py",
   "mimetype": "text/x-python",
   "name": "python",
   "nbconvert_exporter": "python",
   "pygments_lexer": "ipython3",
   "version": "3.13.7"
  },
  "toc": {
   "base_numbering": 1,
   "nav_menu": {},
   "number_sections": true,
   "sideBar": true,
   "skip_h1_title": false,
   "title_cell": "Table of Contents",
   "title_sidebar": "Contents",
   "toc_cell": false,
   "toc_position": {},
   "toc_section_display": true,
   "toc_window_display": false
  }
 },
 "nbformat": 4,
 "nbformat_minor": 4
}
